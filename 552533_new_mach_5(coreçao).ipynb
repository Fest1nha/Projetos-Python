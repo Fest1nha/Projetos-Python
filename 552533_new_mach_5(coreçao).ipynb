{
 "cells": [
  {
   "cell_type": "code",
   "execution_count": 2,
   "metadata": {},
   "outputs": [
    {
     "name": "stdout",
     "output_type": "stream",
     "text": [
      "Para r = 0.100000, probabilidades: [0.007 0.993], esperado: [0.990234375, 0.009765625]\n",
      "Para r = 0.312446, probabilidades: [0.102 0.898], esperado: [0.915283203125, 0.084716796875]\n",
      "Para r = 0.500000, probabilidades: [0.256 0.744], esperado: [0.8125, 0.1875]\n",
      "Para r = 0.577350, probabilidades: [0.313 0.687], esperado: [0.777778, 0.222222]\n",
      "Para r = 0.900000, probabilidades: [0.792 0.208], esperado: [0.842529296875, 0.157470703125]\n"
     ]
    }
   ],
   "source": [
    "import numpy as np\n",
    "from qiskit import QuantumCircuit, transpile\n",
    "from qiskit.visualization import plot_histogram\n",
    "from qiskit_aer import AerSimulator\n",
    "backend = AerSimulator()\n",
    "\n",
    "def beam_splitter(r):\n",
    "    return np.array([[r, np.sqrt(1 - r**2)], [np.sqrt(1 - r**2), -r]])\n",
    "\n",
    "def mz_interferometer(r):\n",
    "    qc = QuantumCircuit(1)\n",
    "    B = beam_splitter(r)\n",
    "    qc.unitary(B, [0], label=\"Beam Splitter\")\n",
    "    qc.measure_all()\n",
    "\n",
    "    job = backend.run(qc, shots=1000)\n",
    "    result = job.result().get_counts()\n",
    "    \n",
    "\n",
    "    prob_A_or_C = result.get(\"0\", 0) / 1000\n",
    "    prob_D = result.get(\"1\", 0) / 1000\n",
    "\n",
    "    return np.array([prob_A_or_C, prob_D])\n",
    "\n",
    "test_cases = [\n",
    "    ('0.1', '[0.990234375, 0.009765625]'),\n",
    "    ('0.3124456', '[0.915283203125, 0.084716796875]'),\n",
    "    ('0.5', '[0.8125, 0.1875]'),\n",
    "    ('0.577350269', '[0.777778, 0.222222]'),\n",
    "    ('0.9', '[0.842529296875, 0.157470703125]')\n",
    "]\n",
    "\n",
    "for r, probs_esperadas in test_cases:\n",
    "    valor_r = float(r)\n",
    "    probs = mz_interferometer(valor_r)\n",
    "    print(f\"Para r = {valor_r:.6f}, probabilidades: {probs}, esperado: {probs_esperadas}\")\n",
    "\n",
    "\n",
    "\n",
    "\n"
   ]
  }
 ],
 "metadata": {
  "kernelspec": {
   "display_name": "Python 3",
   "language": "python",
   "name": "python3"
  },
  "language_info": {
   "codemirror_mode": {
    "name": "ipython",
    "version": 3
   },
   "file_extension": ".py",
   "mimetype": "text/x-python",
   "name": "python",
   "nbconvert_exporter": "python",
   "pygments_lexer": "ipython3",
   "version": "3.11.9"
  }
 },
 "nbformat": 4,
 "nbformat_minor": 2
}
