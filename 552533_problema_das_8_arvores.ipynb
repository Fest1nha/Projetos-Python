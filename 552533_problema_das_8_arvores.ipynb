{
 "cells": [
  {
   "cell_type": "markdown",
   "metadata": {},
   "source": [
    "Problema das 8 Arvores\n",
    "Octhor Festa - 552533"
   ]
  },
  {
   "cell_type": "code",
   "execution_count": 1,
   "metadata": {},
   "outputs": [
    {
     "name": "stdout",
     "output_type": "stream",
     "text": [
      "1\n",
      "1\n",
      "0\n",
      "1\n",
      "1\n",
      "0\n"
     ]
    }
   ],
   "source": [
    "def eightTrees(tree_list):\n",
    "    # Função auxiliar para contar os conjuntos de árvores\n",
    "    def countSets(trees):\n",
    "        count = 0\n",
    "        i = 0\n",
    "        while i < len(trees):\n",
    "            if trees[i] == 1:  # Encontrou o início de um conjunto\n",
    "                # Avança até o fim do conjunto de 1s\n",
    "                while i < len(trees) and trees[i] == 1:\n",
    "                    i += 1\n",
    "                count += 1  # Incrementa o contador de conjuntos\n",
    "            else:\n",
    "                i += 1\n",
    "        return count\n",
    "\n",
    "    # Contar os conjuntos de árvores na lista fornecida\n",
    "    count = countSets(tree_list)\n",
    "    # Retorna 1 se o número de conjuntos é ímpar, senão retorna 0\n",
    "    return 1 if count % 2 != 0 else 0\n",
    "\n",
    "# Testes\n",
    "print(eightTrees([1, 1, 1, 1, 1, 1, 1, 1]))  # Saída esperada: 1\n",
    "print(eightTrees([0, 1, 1, 0, 1, 0, 0, 1]))  # Saída esperada: 1\n",
    "print(eightTrees([1, 1, 1, 0, 1, 1, 1, 1]))  # Saída esperada: 0\n",
    "print(eightTrees([0, 0, 1, 1, 1, 1, 1, 1]))  # Saída esperada: 1\n",
    "print(eightTrees([1, 0, 1, 1, 0, 1, 1, 1]))  # Saída esperada: 1\n",
    "print(eightTrees([1, 0, 1, 0, 1, 0, 1, 0]))  # Saída esperada: 0\n"
   ]
  }
 ],
 "metadata": {
  "kernelspec": {
   "display_name": "Python 3",
   "language": "python",
   "name": "python3"
  },
  "language_info": {
   "codemirror_mode": {
    "name": "ipython",
    "version": 3
   },
   "file_extension": ".py",
   "mimetype": "text/x-python",
   "name": "python",
   "nbconvert_exporter": "python",
   "pygments_lexer": "ipython3",
   "version": "3.11.9"
  }
 },
 "nbformat": 4,
 "nbformat_minor": 2
}
