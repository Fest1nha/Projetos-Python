{
 "cells": [
  {
   "cell_type": "code",
   "execution_count": 12,
   "id": "b8a1cb35-9c34-45f1-a20b-fdf6a06eeaf0",
   "metadata": {
    "tags": []
   },
   "outputs": [
    {
     "name": "stdout",
     "output_type": "stream",
     "text": [
      "Traceback \u001b[1;36m(most recent call last)\u001b[0m:\n",
      "\u001b[1;36m  Cell \u001b[1;32mIn[12], line 3\u001b[1;36m\n",
      "\u001b[1;33m    from qiskit.providers.aer import Aer\u001b[1;36m\n",
      "\u001b[1;31mModuleNotFoundError\u001b[0m\u001b[1;31m:\u001b[0m No module named 'qiskit.providers.aer'\n",
      "\n",
      "Use %tb to get the full traceback.\n"
     ]
    },
    {
     "data": {
      "text/html": [
       "\n",
       "<style>\n",
       ".button {\n",
       "  border: none;\n",
       "  color: white;\n",
       "  padding: 4px 8px;\n",
       "  text-align: center;\n",
       "  text-decoration: none;\n",
       "  display: inline-block;\n",
       "  font-size: 12px;\n",
       "  margin: 4px 2px;\n",
       "  transition-duration: 0.2s;\n",
       "  cursor: pointer;\n",
       "}\n",
       ".iqx-button {\n",
       "  background-color: #0f62fe; \n",
       "  color: white; \n",
       "}\n",
       ".iqx-button:hover {\n",
       "  background-color: #0043ce;\n",
       "  color: white;\n",
       "}\n",
       "</style>\n",
       "<a href=\"https://stackoverflow.com/search?q=ModuleNotFoundError: No module named 'qiskit.providers.aer'\" target='_blank'><button class='button iqx-button'>Search for solution online</button></a>\n"
      ],
      "text/plain": [
       "<IPython.core.display.HTML object>"
      ]
     },
     "metadata": {},
     "output_type": "display_data"
    }
   ],
   "source": [
    "# Correção nas importações\n",
    "from qiskit import QuantumCircuit\n",
    "from qiskit.providers.aer import Aer\n",
    "from qiskit.visualization import plot_bloch_multivector\n",
    "from qiskit.quantum_info import Statevector\n",
    "from qiskit import transpile, assemble\n",
    "\n",
    "# Criação do circuito quântico\n",
    "qc = QuantumCircuit(1)\n",
    "\n",
    "# Adicionando a porta Hadamard e a porta X ao qubit\n",
    "qc.h(0)  # Adiciona uma porta Hadamard para criar superposição\n",
    "qc.x(0)  # Adiciona uma porta X para obter o estado |->\n",
    "\n",
    "# Preparação para simulação\n",
    "simulator = Aer.get_backend('statevector_simulator')\n",
    "transpiled_circuit = transpile(qc, simulator)\n",
    "qobj = assemble(transpiled_circuit)\n",
    "\n",
    "# Execução do circuito\n",
    "result = simulator.run(qobj).result()\n",
    "state = result.get_statevector()\n",
    "\n",
    "# Exibição do estado final\n",
    "print(\"\\nEstado Final em LaTeX:\")\n",
    "display(Statevector(state).draw('latex'))\n",
    "\n",
    "# Visualização na Esfera de Bloch\n",
    "print(\"\\nRepresentação na Esfera de Bloch:\")\n",
    "plot_bloch_multivector(state)\n"
   ]
  },
  {
   "cell_type": "code",
   "execution_count": null,
   "id": "06403555-1c81-45c1-b518-5314b4bf48fa",
   "metadata": {},
   "outputs": [],
   "source": []
  }
 ],
 "metadata": {
  "kernelspec": {
   "display_name": "Qiskit v1.0.2 (ipykernel)",
   "language": "python",
   "name": "python3"
  },
  "language_info": {
   "codemirror_mode": {
    "name": "ipython",
    "version": 3
   },
   "file_extension": ".py",
   "mimetype": "text/x-python",
   "name": "python",
   "nbconvert_exporter": "python",
   "pygments_lexer": "ipython3",
   "version": "3.10.8"
  },
  "widgets": {
   "application/vnd.jupyter.widget-state+json": {
    "state": {},
    "version_major": 2,
    "version_minor": 0
   }
  }
 },
 "nbformat": 4,
 "nbformat_minor": 5
}
