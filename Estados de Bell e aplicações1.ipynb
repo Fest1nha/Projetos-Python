{
 "cells": [
  {
   "attachments": {},
   "cell_type": "markdown",
   "metadata": {},
   "source": [
    "# Exercício 3: Estados emaranhados\n",
    "## LEIA COM ATENÇÃO\n",
    "\n",
    "__Responsabilidades:__ Na celular logo abaixo, preencha o seu nome e rm do grupo dentro da variavel adequados, no tipo *STRING*. A falta disso na entrega final resultara em nota zero.\n",
    "\n",
    "__Objetivos:__  Ao completar esta sequência de tarefas, o estudante será capaz de:\n",
    "\n",
    "* Manipular estados emaranhados de 2 q-bits\n",
    "* Entender a codificação superdensa usando estados emaranhados. \n",
    "* Entender o uso de estados emaranhados para o teletransporte quântico\n",
    "\n",
    "__Avaliação__\n",
    "\n",
    "Tão importante quanto escrever um código que funcione corretamente é escrever um código legível, que seja fácil de entender e possa ser facilmente reutilizado por outros ou por você mesmo. Por isso a avaliação é separada da seguinte forma:\n",
    "\n",
    "* 60% conteúdo, se os resultados estão corretos.\n",
    "* 40% apresentação, código bem comentado, cédulas texto bem escritas.\n",
    "\n",
    "__Referências:__\n",
    "1. https://learn.qiskit.org/course/ch-states/representing-qubit-states\n",
    "2. https://learn.qiskit.org/course/ch-states/single-qubit-gates\n",
    "3. https://qiskit.org/documentation/apidoc/visualization.html\n",
    "4. https://youtu.be/GSsElSQgMbU\n",
    "5. https://learn.qiskit.org/course/ch-algorithms/superdense-coding\n",
    "6. Michael A. Nielsen e Isaac L. Chuang, Computação quântica e informação quântica"
   ]
  },
  {
   "cell_type": "markdown",
   "metadata": {},
   "source": [
    "# IMPORTANTE:\n",
    " A entrega da prova deve seguir o seguinte formato: {número de registro do aluno}_{número de registro do segundo aluno}_cp2.ipynb, com a extensão .ipynb indicando que se trata de um arquivo do Jupyter Notebook. Por exemplo, se o seu número de registro é rm12345 e o de um amigo é rm23456, o arquivo entregue deve ter o nome 12345_23456_cp2.ipynb."
   ]
  },
  {
   "cell_type": "markdown",
   "metadata": {},
   "source": [
    "# DADOS DO GRUPO"
   ]
  },
  {
   "cell_type": "code",
   "execution_count": null,
   "metadata": {},
   "outputs": [],
   "source": [
    "nome1 = \"Octhor Festa\"\n",
    "rm1 = \"552533\"\n",
    "nome2 = \"Felipe Henrique de Oliveira Cruz\"\n",
    "rm2 = \"552566\"\n",
    "\n"
   ]
  },
  {
   "cell_type": "code",
   "execution_count": null,
   "metadata": {},
   "outputs": [],
   "source": []
  },
  {
   "cell_type": "markdown",
   "metadata": {},
   "source": []
  },
  {
   "cell_type": "markdown",
   "metadata": {},
   "source": [
    "### Tarefa 0\n",
    "Importe as bibliotecas necessárias."
   ]
  },
  {
   "cell_type": "code",
   "execution_count": 1,
   "metadata": {},
   "outputs": [],
   "source": [
    "\n",
    "from qiskit import QuantumCircuit, transpile\n",
    "from qiskit.visualization import plot_histogram, plot_bloch_multivector, visualize_transition, circuit_drawer\n",
    "from qiskit_aer import AerSimulator\n",
    "from qiskit.quantum_info import Statevector\n",
    "backend = AerSimulator()"
   ]
  },
  {
   "attachments": {},
   "cell_type": "markdown",
   "metadata": {},
   "source": [
    "\n",
    "### Tarefa 1: \n",
    "O exemplo mais simples de um estado emaranhado é o estado \n",
    "$$\n",
    "    |\\beta_{00}\\rangle = \\frac{1}{\\sqrt{2}} (|00\\rangle + |11\\rangle).\n",
    "$$\n",
    "Construa um circuito quântico que gere este estado e execute-o em um simulador.\n"
   ]
  },
  {
   "cell_type": "code",
   "execution_count": 33,
   "metadata": {},
   "outputs": [
    {
     "data": {
      "text/html": [
       "<pre style=\"word-wrap: normal;white-space: pre;background: #fff0;line-height: 1.1;font-family: &quot;Courier New&quot;,Courier,monospace\">        ┌───┐      statevector  ░ ┌─┐   \n",
       "   q_0: ┤ H ├──■────────░───────░─┤M├───\n",
       "        └───┘┌─┴─┐      ░       ░ └╥┘┌─┐\n",
       "   q_1: ─────┤ X ├──────░───────░──╫─┤M├\n",
       "             └───┘      ░       ░  ║ └╥┘\n",
       "meas: 2/═══════════════════════════╩══╩═\n",
       "                                   0  1 </pre>"
      ],
      "text/plain": [
       "        ┌───┐      statevector  ░ ┌─┐   \n",
       "   q_0: ┤ H ├──■────────░───────░─┤M├───\n",
       "        └───┘┌─┴─┐      ░       ░ └╥┘┌─┐\n",
       "   q_1: ─────┤ X ├──────░───────░──╫─┤M├\n",
       "             └───┘      ░       ░  ║ └╥┘\n",
       "meas: 2/═══════════════════════════╩══╩═\n",
       "                                   0  1 "
      ]
     },
     "execution_count": 33,
     "metadata": {},
     "output_type": "execute_result"
    }
   ],
   "source": [
    "qc = QuantumCircuit(2)\n",
    "qc.h(0)\n",
    "qc.cx(0,1)\n",
    "qc.save_statevector()\n",
    "qc.measure_all()\n",
    "\n",
    "qc.draw()"
   ]
  },
  {
   "cell_type": "code",
   "execution_count": 37,
   "metadata": {},
   "outputs": [
    {
     "data": {
      "image/png": "[encoded data removed]",
      "text/plain": [
       "<Figure size 640x480 with 1 Axes>"
      ]
     },
     "execution_count": 37,
     "metadata": {},
     "output_type": "execute_result"
    }
   ],
   "source": [
    "job = backend.run(qc, shots=1000)\n",
    "result = job.result()\n",
    "counts = result.get_counts(qc)\n",
    "\n",
    "plot_histogram(counts)"
   ]
  },
  {
   "cell_type": "markdown",
   "metadata": {},
   "source": [
    "\n"
   ]
  },
  {
   "attachments": {},
   "cell_type": "markdown",
   "metadata": {},
   "source": [
    "### Tarefa 2:\n",
    "Os seguintes quatro estados emaranhados\n",
    "$$\n",
    "\\begin{align}\n",
    "    |\\beta_{00}\\rangle  &= \\frac{1}{\\sqrt{2}} (|00\\rangle + |11\\rangle)\\\\\n",
    "    |\\beta_{01}\\rangle &= \\frac{1}{\\sqrt{2}} (|01\\rangle + |10\\rangle)\\\\\n",
    "    |\\beta_{10}\\rangle &= \\frac{1}{\\sqrt{2}} (|00\\rangle - |11\\rangle)\\\\\n",
    "    |\\beta_{11}\\rangle &= \\frac{1}{\\sqrt{2}} (|01\\rangle - |10\\rangle)\n",
    "\\end{align}\n",
    "$$ \n",
    "formam uma base ortonormal para um sistema de dois q-bits. Mostre que é possível obter cada um dos $|\\beta_{ij}\\rangle$ a partir do $|\\beta_{00}\\rangle$ utilizando apenas uma porta lógica de um q-bit.\n"
   ]
  },
  {
   "attachments": {},
   "cell_type": "markdown",
   "metadata": {},
   "source": [
    "Sua resposta aqui"
   ]
  },
  {
   "attachments": {},
   "cell_type": "markdown",
   "metadata": {},
   "source": [
    "### Tarefa 3: Código super-denso\n",
    "\n",
    "Considere que Alice e Bob, espacialmente separados, compartilham um estado emaranhado no estado $|\\beta_{00}\\rangle$, cada um possuindo um dos q-bit. Explique como que Alice consegue enviar 2 bits de informação clássica a Bob enviado seu q-bit. Dica: (Utilize o resultado da Tarefa 2) "
   ]
  },
  {
   "attachments": {},
   "cell_type": "markdown",
   "metadata": {},
   "source": [
    "sua reposta aqui"
   ]
  },
  {
   "attachments": {},
   "cell_type": "markdown",
   "metadata": {},
   "source": [
    "### Tarefa 4:\n",
    "\n",
    "Construa um circuito quântico simulando o processo estudado nas tarefas 2 e 3. Sorteie dois bits de informação clássica, aplique a porta de 1 q-bit adequada no q-bit de Alice. Depois considere que Alice enviou se q-bit para Bob, que poderá utilizar então portas de dois q-bits para descobrir os 2 bits de informação clássica enviados por Alice."
   ]
  },
  {
   "cell_type": "code",
   "execution_count": 10,
   "metadata": {},
   "outputs": [],
   "source": [
    "#Seu código aqui (se precisar use mais de uma célula)"
   ]
  },
  {
   "attachments": {},
   "cell_type": "markdown",
   "metadata": {},
   "source": [
    "## Parte 2: Teletransporte quântico (OPTATIVA)\n",
    "\n",
    "### Tarefa 5:\n",
    "\n",
    "Considere que Alice compartilha com Bob dois q-bits no estado emaranhado $|\\beta_{00}\\rangle$. Além disso, Alice dispõe de outro q-bit em um estado desconhecido $|\\psi\\rangle$. Mostre que é possível Alice teletransportar o estado $|\\psi\\rangle$ para Bob utilizando apenas portas locais (i.e. portas que atuam apenas nos seus q-bits), o estado emaranhado $|\\beta_{00}\\rangle$ e dois bits de comunicação clássica.\n",
    "\n",
    "Note que apenas o estado do q-bit de Alice é teletransportado para o q-bit de Bob. Não há envio de q-bits. \n",
    "\n",
    "Construa um circuito que simule o processo de teletransporte do estado quântico da Tarefa 5. Sorteie um estado $|\\psi\\rangle$, execute o circuito e verifique que o estado do q-bit de Alice foi realmente teletransportado para o q-bit de Bob.\n"
   ]
  },
  {
   "cell_type": "code",
   "execution_count": 11,
   "metadata": {},
   "outputs": [],
   "source": [
    "#Seu código aqui"
   ]
  },
  {
   "cell_type": "markdown",
   "metadata": {},
   "source": [
    "### Tarefa 6:\n",
    "Mostre os q-bit na esfera de bloch, no estado inicial (onde ainda não havia sido teleportado) e no final com ele teleportado."
   ]
  },
  {
   "cell_type": "code",
   "execution_count": 12,
   "metadata": {},
   "outputs": [],
   "source": [
    "#Seu código aqui"
   ]
  }
 ],
 "metadata": {
  "kernelspec": {
   "display_name": "qhack2",
   "language": "python",
   "name": "python3"
  },
  "language_info": {
   "codemirror_mode": {
    "name": "ipython",
    "version": 3
   },
   "file_extension": ".py",
   "mimetype": "text/x-python",
   "name": "python",
   "nbconvert_exporter": "python",
   "pygments_lexer": "ipython3",
   "version": "3.11.9"
  },
  "orig_nbformat": 4
 },
 "nbformat": 4,
 "nbformat_minor": 2
}
