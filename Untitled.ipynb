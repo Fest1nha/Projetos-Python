{
 "cells": [
  {
   "cell_type": "code",
   "execution_count": 8,
   "id": "8beb2896-a575-4dd2-9365-28e56d3f2091",
   "metadata": {
    "tags": []
   },
   "outputs": [
    {
     "name": "stderr",
     "output_type": "stream",
     "text": [
      "qiskit_runtime_service.__init__:INFO:2024-04-23 16:13:32,024: Default instance: ibm-q/open/main\n"
     ]
    }
   ],
   "source": [
    "# Importing standard Qiskit libraries\n",
    "from qiskit import QuantumCircuit, transpile, assemble\n",
    "from qiskit.visualization import plot_histogram, plot_bloch_multivector, visualize_transition, circuit_drawer\n",
    "import numpy as np\n",
    "from ibm_quantum_widgets import *\n",
    "from qiskit_aer import AerSimulator\n",
    "from qiskit.quantum_info import Statevector\n",
    "backend = AerSimulator()\n",
    "\n",
    "# qiskit-ibmq-provider has been deprecated.\n",
    "# Please see the Migration Guides in https://ibm.biz/provider_migration_guide for more detail.\n",
    "from qiskit_ibm_runtime import QiskitRuntimeService, Sampler, Estimator, Session, Options\n",
    "\n",
    "# Loading your IBM Quantum account(s)\n",
    "service = QiskitRuntimeService(channel=\"ibm_quantum\")\n",
    "\n",
    "# Invoke a primitive. For more details see https://docs.quantum.ibm.com/run/primitives\n",
    "# result = Sampler().run(circuits).result()"
   ]
  },
  {
   "cell_type": "code",
   "execution_count": 9,
   "id": "022d2c97-6e9b-4c8c-b525-d06181a5fa2a",
   "metadata": {
    "tags": []
   },
   "outputs": [
    {
     "name": "stdout",
     "output_type": "stream",
     "text": [
      "Traceback \u001b[1;36m(most recent call last)\u001b[0m:\n",
      "\u001b[0m  Cell \u001b[0;32mIn[9], line 40\u001b[0m\n",
      "    simulator = backend.run(trees)\u001b[0m\n",
      "\u001b[1;36m  File \u001b[1;32m/opt/conda/lib/python3.10/site-packages/qiskit_aer/backends/aerbackend.py:241\u001b[1;36m in \u001b[1;35mrun\u001b[1;36m\n",
      "\u001b[1;33m    raise TypeError(\u001b[1;36m\n",
      "\u001b[1;31mTypeError\u001b[0m\u001b[1;31m:\u001b[0m bad input to run() function;circuits and schedules cannot be mixed in a single run\n",
      "\n",
      "Use %tb to get the full traceback.\n"
     ]
    },
    {
     "data": {
      "text/html": [
       "\n",
       "<style>\n",
       ".button {\n",
       "  border: none;\n",
       "  color: white;\n",
       "  padding: 4px 8px;\n",
       "  text-align: center;\n",
       "  text-decoration: none;\n",
       "  display: inline-block;\n",
       "  font-size: 12px;\n",
       "  margin: 4px 2px;\n",
       "  transition-duration: 0.2s;\n",
       "  cursor: pointer;\n",
       "}\n",
       ".iqx-button {\n",
       "  background-color: #0f62fe; \n",
       "  color: white; \n",
       "}\n",
       ".iqx-button:hover {\n",
       "  background-color: #0043ce;\n",
       "  color: white;\n",
       "}\n",
       "</style>\n",
       "<a href=\"https://stackoverflow.com/search?q=TypeError: bad input to run() function;circuits and schedules cannot be mixed in a single run\" target='_blank'><button class='button iqx-button'>Search for solution online</button></a>\n"
      ],
      "text/plain": [
       "<IPython.core.display.HTML object>"
      ]
     },
     "metadata": {},
     "output_type": "display_data"
    }
   ],
   "source": [
    "\n",
    "# Função para construir o circuito quântico para uma árvore\n",
    "def build_tree_circuit(tree):\n",
    "    num_qubits = len(tree)\n",
    "    qc = QuantumCircuit(num_qubits, num_qubits)\n",
    "    \n",
    "    # Aplica as portas X (NOT) nas posições onde há árvores\n",
    "    for i, val in enumerate(tree):\n",
    "        if val == 1:\n",
    "            qc.x(i)\n",
    "    \n",
    "    # Aplica a porta CNOT entre cada par de qubits adjacentes\n",
    "    for i in range(num_qubits - 1):\n",
    "        qc.cx(i, i+1)\n",
    "    \n",
    "    # Mede todos os qubits\n",
    "    qc.measure(range(num_qubits), range(num_qubits))\n",
    "    \n",
    "    return qc\n",
    "\n",
    "# Função para contar os resultados das medições\n",
    "def count_results(results):\n",
    "    counts = results.get_counts()\n",
    "    total_count = sum(counts.values())\n",
    "    num_trees = 0\n",
    "    \n",
    "    # Conta a quantidade de resultados em que todos os qubits estão em 0\n",
    "    for key in counts:\n",
    "        if key.count('0') == len(key):\n",
    "            num_trees += counts[key]\n",
    "    \n",
    "    return num_trees % 2\n",
    "\n",
    "# Vetor representando o conjunto de árvores\n",
    "trees = [0, 1, 1, 0, 1, 0, 0, 1]\n",
    "\n",
    "# Constrói o circuito quântico para o conjunto de árvores\n",
    "tree_circuit = build_tree_circuit(trees)\n",
    "\n",
    "# Simula o circuito quântico\n",
    "simulator = backend.run(trees)\n",
    "transpiled_circuit = transpile(tree_circuit, simulator)\n",
    "qobj = assemble(transpiled_circuit)\n",
    "results = simulator.run(qobj).result()\n",
    "\n",
    "# Conta os resultados das medições para determinar se a quantidade de conjuntos de árvores é par ou ímpar\n",
    "result = count_results(results)\n",
    "print(\"Resultado:\", result)\n"
   ]
  },
  {
   "cell_type": "code",
   "execution_count": null,
   "id": "de7b30a1-5a25-4f63-bb2c-d38253c14f79",
   "metadata": {},
   "outputs": [],
   "source": []
  }
 ],
 "metadata": {
  "kernelspec": {
   "display_name": "Qiskit v1.0.2 (ipykernel)",
   "language": "python",
   "name": "python3"
  },
  "language_info": {
   "codemirror_mode": {
    "name": "ipython",
    "version": 3
   },
   "file_extension": ".py",
   "mimetype": "text/x-python",
   "name": "python",
   "nbconvert_exporter": "python",
   "pygments_lexer": "ipython3",
   "version": "3.10.8"
  },
  "widgets": {
   "application/vnd.jupyter.widget-state+json": {
    "state": {},
    "version_major": 2,
    "version_minor": 0
   }
  }
 },
 "nbformat": 4,
 "nbformat_minor": 5
}
