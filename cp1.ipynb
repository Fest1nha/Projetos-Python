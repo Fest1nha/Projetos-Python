{
 "cells": [
  {
   "cell_type": "code",
   "execution_count": 12,
   "id": "d53bddad-c3b6-41e5-bea5-3a258366ae62",
   "metadata": {
    "tags": []
   },
   "outputs": [
    {
     "name": "stdout",
     "output_type": "stream",
     "text": [
      "Traceback \u001b[1;36m(most recent call last)\u001b[0m:\n",
      "\u001b[1;36m  Cell \u001b[1;32mIn[14], line 4\u001b[1;36m\n",
      "\u001b[1;33m    from qiskit.tools.visualization import plot_bloch_multivector, plot_histogram\u001b[1;36m\n",
      "\u001b[1;31mModuleNotFoundError\u001b[0m\u001b[1;31m:\u001b[0m No module named 'qiskit.tools'\n",
      "\n",
      "Use %tb to get the full traceback.\n"
     ]
    },
    {
     "data": {
      "text/html": [
       "\n",
       "<style>\n",
       ".button {\n",
       "  border: none;\n",
       "  color: white;\n",
       "  padding: 4px 8px;\n",
       "  text-align: center;\n",
       "  text-decoration: none;\n",
       "  display: inline-block;\n",
       "  font-size: 12px;\n",
       "  margin: 4px 2px;\n",
       "  transition-duration: 0.2s;\n",
       "  cursor: pointer;\n",
       "}\n",
       ".iqx-button {\n",
       "  background-color: #0f62fe; \n",
       "  color: white; \n",
       "}\n",
       ".iqx-button:hover {\n",
       "  background-color: #0043ce;\n",
       "  color: white;\n",
       "}\n",
       "</style>\n",
       "<a href=\"https://stackoverflow.com/search?q=ModuleNotFoundError: No module named 'qiskit.tools'\" target='_blank'><button class='button iqx-button'>Search for solution online</button></a>\n"
      ],
      "text/plain": [
       "<IPython.core.display.HTML object>"
      ]
     },
     "metadata": {},
     "output_type": "display_data"
    }
   ],
   "source": [
    "# Importing standard Qiskit libraries\n",
    "import numpy as np\n",
    "from qiskit import QuantumCircuit, Aer, execute \n",
    "from qiskit.visualization import *\n",
    "from ibm_quantum_widgets import *\n",
    "from qiskit.tools.visualization import plot_bloch_multivector, plot_histogram\n",
    "import matplotlib.pyplot as plt\n",
    "\n",
    "from qiskit.quantum_info import Statevector\n",
    "# qiskit-ibmq-provider has been deprecated.\n",
    "# Please see the Migration Guides in https://ibm.biz/provider_migration_guide for more detail.\n",
    "from qiskit_ibm_runtime import QiskitRuntimeService, Sampler, Estimator, Session, Options\n",
    "\n",
    "# Loading your IBM Quantum account(s)\n",
    "service = QiskitRuntimeService(channel=\"ibm_quantum\")\n",
    "\n",
    "# Invoke a primitive. For more details see https://docs.quantum.ibm.com/run/primitives\n",
    "# result = Sampler().run(circuits).result()"
   ]
  },
  {
   "cell_type": "code",
   "execution_count": 9,
   "id": "36a93462-231b-4cbe-bf6e-fd22917eaf74",
   "metadata": {
    "tags": []
   },
   "outputs": [
    {
     "name": "stdout",
     "output_type": "stream",
     "text": [
      "Traceback \u001b[1;36m(most recent call last)\u001b[0m:\n",
      "\u001b[1;36m  Cell \u001b[1;32mIn[9], line 1\u001b[1;36m\n",
      "\u001b[1;33m    qasm_sim = aer.get_backend('qasm_simulator')\u001b[1;36m\n",
      "\u001b[1;31mNameError\u001b[0m\u001b[1;31m:\u001b[0m name 'aer' is not defined\n",
      "\n",
      "Use %tb to get the full traceback.\n"
     ]
    },
    {
     "data": {
      "text/html": [
       "\n",
       "<style>\n",
       ".button {\n",
       "  border: none;\n",
       "  color: white;\n",
       "  padding: 4px 8px;\n",
       "  text-align: center;\n",
       "  text-decoration: none;\n",
       "  display: inline-block;\n",
       "  font-size: 12px;\n",
       "  margin: 4px 2px;\n",
       "  transition-duration: 0.2s;\n",
       "  cursor: pointer;\n",
       "}\n",
       ".iqx-button {\n",
       "  background-color: #0f62fe; \n",
       "  color: white; \n",
       "}\n",
       ".iqx-button:hover {\n",
       "  background-color: #0043ce;\n",
       "  color: white;\n",
       "}\n",
       "</style>\n",
       "<a href=\"https://stackoverflow.com/search?q=NameError: name 'aer' is not defined\" target='_blank'><button class='button iqx-button'>Search for solution online</button></a>\n"
      ],
      "text/plain": [
       "<IPython.core.display.HTML object>"
      ]
     },
     "metadata": {},
     "output_type": "display_data"
    }
   ],
   "source": [
    "qasm_sim = Aer.get_backend('qasm_simulator') "
   ]
  },
  {
   "cell_type": "code",
   "execution_count": 10,
   "id": "aec461e9-7aa7-4c1d-be12-3bf57bcedb40",
   "metadata": {
    "tags": []
   },
   "outputs": [
    {
     "name": "stdout",
     "output_type": "stream",
     "text": [
      "Traceback \u001b[1;36m(most recent call last)\u001b[0m:\n",
      "\u001b[1;36m  Cell \u001b[1;32mIn[10], line 9\u001b[1;36m\n",
      "\u001b[1;33m    resultado = qasm_sim.run(qc).result()   # Roda o qubit no simulador para obter o resultado\u001b[1;36m\n",
      "\u001b[1;31mNameError\u001b[0m\u001b[1;31m:\u001b[0m name 'qasm_sim' is not defined\n",
      "\n",
      "Use %tb to get the full traceback.\n"
     ]
    },
    {
     "data": {
      "text/html": [
       "\n",
       "<style>\n",
       ".button {\n",
       "  border: none;\n",
       "  color: white;\n",
       "  padding: 4px 8px;\n",
       "  text-align: center;\n",
       "  text-decoration: none;\n",
       "  display: inline-block;\n",
       "  font-size: 12px;\n",
       "  margin: 4px 2px;\n",
       "  transition-duration: 0.2s;\n",
       "  cursor: pointer;\n",
       "}\n",
       ".iqx-button {\n",
       "  background-color: #0f62fe; \n",
       "  color: white; \n",
       "}\n",
       ".iqx-button:hover {\n",
       "  background-color: #0043ce;\n",
       "  color: white;\n",
       "}\n",
       "</style>\n",
       "<a href=\"https://stackoverflow.com/search?q=NameError: name 'qasm_sim' is not defined\" target='_blank'><button class='button iqx-button'>Search for solution online</button></a>\n"
      ],
      "text/plain": [
       "<IPython.core.display.HTML object>"
      ]
     },
     "metadata": {},
     "output_type": "display_data"
    }
   ],
   "source": [
    "qubit = 1   # Quantidade de qubits que sera utilizado\n",
    "bit = 1     # Quantidade de bits que sera utilizado\n",
    "qc = QuantumCircuit(qubit, bit)     # Cria o circuito Quântico\n",
    "qc.h(0)     # Aplica a Hadamard Gate\n",
    "qc.save_statevector()   # Salva o vetor de estado\n",
    "\n",
    "qc.measure(0,0)     # Coloca o medido no circuito, para medidas posteriores\n",
    "\n",
    "resultado = qasm_sim.run(qc).result()   # Roda o qubit no simulador para obter o resultado\n",
    "vetor = resultado.get_statevector()     # Converte em vetor de estado\n",
    "\n",
    "\n",
    "plot_bloch_multivector(vetor)       #visualizando na esfera de bloch"
   ]
  },
  {
   "cell_type": "code",
   "execution_count": null,
   "id": "5c143c05-8fd5-4612-aa01-23ea9006654a",
   "metadata": {
    "tags": []
   },
   "outputs": [],
   "source": [
    "ket0 = np.array([1, 0])\n",
    "ket1 = np.array([0, 1])\n",
    "\n",
    "display(ket0)"
   ]
  },
  {
   "cell_type": "code",
   "execution_count": null,
   "id": "348eeb0b-85b3-43b6-b9c0-c614dc24faac",
   "metadata": {
    "tags": []
   },
   "outputs": [],
   "source": [
    "minus = ket0 - ket1\n",
    "display(minus)"
   ]
  },
  {
   "cell_type": "code",
   "execution_count": null,
   "id": "c1516051-6c71-434e-8887-854c251a13ba",
   "metadata": {
    "tags": []
   },
   "outputs": [],
   "source": [
    "m1 = np.array([\n",
    "    [1, 1],\n",
    "    [0, 0],\n",
    "])\n",
    "\n",
    "display(m1)"
   ]
  },
  {
   "cell_type": "code",
   "execution_count": null,
   "id": "be03e815-bd8c-4fda-a099-f6a0f57aa440",
   "metadata": {
    "tags": []
   },
   "outputs": [],
   "source": [
    "display(np.matmul(m1, ket0))\n",
    "display(np.matmul(m1, ket1))\n",
    "display(np.matmul(m1, plus))"
   ]
  },
  {
   "cell_type": "code",
   "execution_count": null,
   "id": "3bbc736c-3658-4c73-9d27-e6c6b3c70d55",
   "metadata": {
    "tags": []
   },
   "outputs": [],
   "source": [
    "from qiskit.quantum_info import Statevector"
   ]
  },
  {
   "cell_type": "code",
   "execution_count": null,
   "id": "3f9413cd-fb25-48ff-90bb-dc5c9abfe8a5",
   "metadata": {
    "tags": []
   },
   "outputs": [],
   "source": [
    "u = Statevector([1/np.sqrt(2), -1/np.sqrt(2)])\n",
    "v = Statevector([(1+2.j)/3, -2/3])\n",
    "w = Statevector([1/3, 2/3])\n",
    "x = Statevector([(1)/np.sqrt(2), (0-1)])\n",
    "\n",
    "display(u.draw(\"latex\"))\n",
    "display(v.draw(\"latex\"))\n",
    "display(w.draw(\"latex\"))\n",
    "display(x.draw(\"latex\"))\n",
    "\n"
   ]
  },
  {
   "cell_type": "code",
   "execution_count": null,
   "id": "8b257b54-5bae-40a5-b508-54b56daecc74",
   "metadata": {
    "tags": []
   },
   "outputs": [],
   "source": [
    "qc = QuantumCircuit(2)\n",
    "qc.draw()"
   ]
  },
  {
   "cell_type": "code",
   "execution_count": null,
   "id": "74757175-2c18-4872-9d64-c44132fa689a",
   "metadata": {
    "tags": []
   },
   "outputs": [],
   "source": [
    "qc.h(0)\n",
    "qc.draw()"
   ]
  },
  {
   "cell_type": "code",
   "execution_count": null,
   "id": "c90ac1b0-25b2-4213-928c-6ca3d390a05f",
   "metadata": {},
   "outputs": [],
   "source": [
    "qc.cx(0, 1)\n",
    "qc.draw()"
   ]
  }
 ],
 "metadata": {
  "kernelspec": {
   "display_name": "Qiskit v1.0.2 (ipykernel)",
   "language": "python",
   "name": "python3"
  },
  "language_info": {
   "codemirror_mode": {
    "name": "ipython",
    "version": 3
   },
   "file_extension": ".py",
   "mimetype": "text/x-python",
   "name": "python",
   "nbconvert_exporter": "python",
   "pygments_lexer": "ipython3",
   "version": "3.10.8"
  },
  "widgets": {
   "application/vnd.jupyter.widget-state+json": {
    "state": {},
    "version_major": 2,
    "version_minor": 0
   }
  }
 },
 "nbformat": 4,
 "nbformat_minor": 5
}
