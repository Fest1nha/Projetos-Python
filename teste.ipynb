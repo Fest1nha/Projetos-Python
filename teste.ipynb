{
 "cells": [
  {
   "cell_type": "code",
   "execution_count": null,
   "metadata": {},
   "outputs": [],
   "source": [
    "\n"
   ]
  },
  {
   "cell_type": "markdown",
   "metadata": {
    "notebookRunGroups": {
     "groupValue": "2"
    }
   },
   "source": [
    "$$\n",
    "\\begin{align}\n",
    "\n",
    "[ S(x) = \\frac{18x}{\\sqrt{14x^2 + 30}} ]\\\\\\\\\n",
    "\n",
    "\n",
    "\n",
    "[ u = 14x^2 + 30 \\quad \\text{(função a ser diferenciada)} ] [ dv = \\frac{18x}{\\sqrt{14x^2 + 30}} , dx \\quad \\text{(elemento de integração)} ]\\\\\\\\\n",
    "\n",
    "\n",
    "\n",
    "[ du = 28x , dx ] [ v = \\sqrt{14x^2 + 30} ]\\\\\\\\\n",
    "\n",
    "\n",
    "[ \\int u , dv = uv - \\int v , du ]\\\\\\\\\n",
    "\n",
    "\n",
    "\n",
    "[ \\int \\frac{18x}{\\sqrt{14x^2 + 30}} , dx = \\frac{18x \\cdot \\sqrt{14x^2 + 30}}{28} - \\int \\sqrt{14x^2 + 30} \\cdot 28x , dx ]\\\\\\\\\n",
    "\n",
    "\n",
    "\n",
    "[ \\int \\frac{18x}{\\sqrt{14x^2 + 30}} , dx = \\frac{9x \\cdot \\sqrt{14x^2 + 30}}{14} - 28 \\int x \\cdot \\sqrt{14x^2 + 30} , dx ]\\\\\\\\\n",
    "\n",
    "\n",
    "[ \\int x \\cdot \\sqrt{14x^2 + 30} , dx ]\\\\\\\\\n",
    "\n",
    "\n",
    "[ u = 14x^2 + 30 ] [ du = 28x , dx ]\\\\\\\\\n",
    "\n",
    "\n",
    "[ \\int \\sqrt{u} , du ]\\\\\\\\\n",
    "\n",
    "\n",
    "[ \\int \\sqrt{u} , du = \\frac{2}{3} u^{3/2} + C ]\\\\\\\\\n",
    "\n",
    "\n",
    "[ \\frac{9x \\cdot \\sqrt{14x^2 + 30}}{14} - 28 \\left(\\frac{2}{3} (14x^2 + 30)^{3/2}\\right) + C ]\\\\\\\\\n",
    "\n",
    "\n",
    "[ \\left[\\frac{9x \\cdot \\sqrt{14x^2 + 30}}{14} - 28 \\left(\\frac{2}{3} (14x^2 + 30){3/2}\\right)\\right]_{1}{M} ]\\\\\\\\\n",
    "\n",
    "\n",
    "[ \\text{Área da Região IV} = \\frac{9M \\cdot \\sqrt{14M^2 + 30}}{14} - 28 \\left(\\frac{2}{3} (14M^2 + 30)^{3/2}\\right) - \\left(\\frac{9 \\cdot \\sqrt{44}}{14} - 28 \\left(\\frac{2}{3} \\cdot 44^{3/2}\\right)\\right) ]\\\\\\\\\n",
    "\n",
    "\n",
    "[ \\text{Área da Região IV} \\approx 0.5 , \\text{Km}^2 ]\\\\\\\\\n",
    "\n",
    "\n",
    "\n",
    "\n",
    "\\end{align}\n",
    "$$ "
   ]
  }
 ],
 "metadata": {
  "language_info": {
   "name": "python"
  }
 },
 "nbformat": 4,
 "nbformat_minor": 2
}
